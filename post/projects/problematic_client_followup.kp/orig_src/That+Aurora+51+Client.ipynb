{
 "cells": [
  {
   "cell_type": "raw",
   "metadata": {},
   "source": [
    "---\n",
    "title: \"That Aurora 51 Client\"\n",
    "authors:\n",
    "- chutten\n",
    "tags:\n",
    "- misbehaviour\n",
    "- aurora 51\n",
    "- one client\n",
    "created_at: 2017-04-28\n",
    "updated_at: 2017-04-28\n",
    "tldr: More explorations into that 'one' Aurora 51 client\n",
    "---"
   ]
  },
  {
   "cell_type": "markdown",
   "metadata": {},
   "source": [
    "### That Aurora 51 Client"
   ]
  },
  {
   "cell_type": "markdown",
   "metadata": {},
   "source": [
    "As [previously examined](http://reports.telemetry.mozilla.org/post/projects%2Fproblematic_client.kp) there is a large volume of pings coming from a single `client_id`\n",
    "\n",
    "It's gotten much worse since then, so more investigation is needed."
   ]
  },
  {
   "cell_type": "code",
   "execution_count": null,
   "metadata": {
    "collapsed": false,
    "scrolled": true
   },
   "outputs": [],
   "source": [
    "import ujson as json\n",
    "import matplotlib.pyplot as plt\n",
    "import pandas as pd\n",
    "import numpy as np\n",
    "import plotly.plotly as py\n",
    "\n",
    "from plotly.graph_objs import *\n",
    "from moztelemetry import get_pings_properties, get_one_ping_per_client\n",
    "from moztelemetry.dataset import Dataset\n",
    "\n",
    "%matplotlib inline"
   ]
  },
  {
   "cell_type": "code",
   "execution_count": null,
   "metadata": {
    "collapsed": true
   },
   "outputs": [],
   "source": [
    "from datetime import datetime, timedelta"
   ]
  },
  {
   "cell_type": "code",
   "execution_count": null,
   "metadata": {
    "collapsed": false
   },
   "outputs": [],
   "source": [
    "pings = Dataset.from_source(\"telemetry\") \\\n",
    "    .where(docType='main') \\\n",
    "    .where(appBuildId=\"20161014004013\")\\\n",
    "    .where(appUpdateChannel=\"aurora\") \\\n",
    "    .records(sc, sample=1)"
   ]
  },
  {
   "cell_type": "code",
   "execution_count": null,
   "metadata": {
    "collapsed": true
   },
   "outputs": [],
   "source": [
    "pings = pings.filter(lambda p: p[\"clientId\"] == \"omitted\")"
   ]
  },
  {
   "cell_type": "markdown",
   "metadata": {},
   "source": [
    "### How many pings over time"
   ]
  },
  {
   "cell_type": "markdown",
   "metadata": {},
   "source": [
    "From last time, we know there was a roughly-increasing number of pings we were receiving from this client day over day. How has this changed?\n",
    "\n",
    "Since the first analysis we've noticed that a lot of these pings are duplicates: they have the same id and everything! So while we're here let's skip the dupes and graph the volume of pings, counting only the first time we saw them."
   ]
  },
  {
   "cell_type": "code",
   "execution_count": null,
   "metadata": {
    "collapsed": true
   },
   "outputs": [],
   "source": [
    "submission_dates = get_pings_properties(pings, [\"id\", \"meta/submissionDate\"])"
   ]
  },
  {
   "cell_type": "code",
   "execution_count": null,
   "metadata": {
    "collapsed": true
   },
   "outputs": [],
   "source": [
    "ping_counts = submission_dates.map(lambda p: (datetime.strptime(p[\"meta/submissionDate\"], '%Y%m%d'), 1)).countByKey()"
   ]
  },
  {
   "cell_type": "code",
   "execution_count": null,
   "metadata": {
    "collapsed": false
   },
   "outputs": [],
   "source": [
    "first_ping_counts = submission_dates\\\n",
    "    .map(lambda p: (p[\"id\"], p))\\\n",
    "    .reduceByKey(lambda a, b: a if a[\"meta/submissionDate\"] < b[\"meta/submissionDate\"] else b)\\\n",
    "    .map(lambda p: (datetime.strptime(p[1][\"meta/submissionDate\"], '%Y%m%d'), 1))\\\n",
    "    .countByKey()"
   ]
  },
  {
   "cell_type": "code",
   "execution_count": null,
   "metadata": {
    "collapsed": false,
    "scrolled": true
   },
   "outputs": [],
   "source": [
    "df = pd.DataFrame(ping_counts.items(), columns=[\"date\", \"count (including duplicates)\"]).set_index([\"date\"])\n",
    "ax = df.plot(figsize=(17, 7))\n",
    "df2 = pd.DataFrame(first_ping_counts.items(), columns=[\"date\", \"unique count\"]).set_index([\"date\"])\n",
    "df2.plot(ax=ax)\n",
    "plt.xticks(np.arange(min(df.index), max(df.index) + timedelta(3), 5, dtype=\"datetime64[D]\"))\n",
    "plt.ylabel(\"ping count\")\n",
    "plt.xlabel(\"date\")\n",
    "plt.grid(True)\n",
    "plt.show()"
   ]
  },
  {
   "cell_type": "markdown",
   "metadata": {},
   "source": [
    "We are seeing an ever-increasing volume of duplicate pings. Very few are unique."
   ]
  },
  {
   "cell_type": "markdown",
   "metadata": {},
   "source": [
    "### So, those non-duplicate pings..."
   ]
  },
  {
   "cell_type": "markdown",
   "metadata": {},
   "source": [
    "Operating on the assumption that the duplicate pings were distributed along with the Aurora 51 binaries and profile directories, that means only the unique pings have the chance to contain accurate information about the clients.\n",
    "\n",
    "Yes, this means the majority of the subsession and platform analysis from the previous report is likely bunk as it didn't filter out the duplicate pings. (To be fair, no one at the time knew the pings were duplicate and likely distributed with the binaries)\n",
    "\n",
    "So, looking at only the non-duplicate pings, what can we see?"
   ]
  },
  {
   "cell_type": "code",
   "execution_count": null,
   "metadata": {
    "collapsed": true
   },
   "outputs": [],
   "source": [
    "subset = get_pings_properties(pings, [\n",
    "        \"id\",\n",
    "        \"meta/geoCountry\",\n",
    "        \"meta/geoCity\",\n",
    "        \"environment/addons/activeAddons\",\n",
    "        \"environment/settings/isDefaultBrowser\",\n",
    "        \"environment/system/cpu/speedMHz\",\n",
    "        \"environment/system/os/name\",\n",
    "        \"environment/system/os/version\",\n",
    "        \"payload/info/sessionLength\",\n",
    "        \"payload/info/subsessionLength\",        \n",
    "    ])"
   ]
  },
  {
   "cell_type": "code",
   "execution_count": null,
   "metadata": {
    "collapsed": true
   },
   "outputs": [],
   "source": [
    "unique_pings = subset\\\n",
    "    .map(lambda p: (p[\"id\"], p))\\\n",
    "    .reduceByKey(lambda a, b: \"dupe\")\\\n",
    "    .map(lambda p: p[1])\\\n",
    "    .filter(lambda p: p != \"dupe\")"
   ]
  },
  {
   "cell_type": "code",
   "execution_count": null,
   "metadata": {
    "collapsed": false
   },
   "outputs": [],
   "source": [
    "unique_pings.count()"
   ]
  },
  {
   "cell_type": "markdown",
   "metadata": {},
   "source": [
    "### Non-System Addons"
   ]
  },
  {
   "cell_type": "code",
   "execution_count": null,
   "metadata": {
    "collapsed": false
   },
   "outputs": [],
   "source": [
    "pings_with_addon = unique_pings\\\n",
    "    .flatMap(lambda p: [(addon[\"name\"], 1) for addon in filter(lambda x: \"isSystem\" not in x or not x[\"isSystem\"], p[\"environment/addons/activeAddons\"].values())])\\\n",
    "    .countByKey()"
   ]
  },
  {
   "cell_type": "code",
   "execution_count": null,
   "metadata": {
    "collapsed": false
   },
   "outputs": [],
   "source": [
    "sorted(pings_with_addon.items(), key=lambda x: x[1], reverse=True)[:5]"
   ]
  },
  {
   "cell_type": "markdown",
   "metadata": {},
   "source": [
    "As before, every ping shows Random Agent Spoofer."
   ]
  },
  {
   "cell_type": "markdown",
   "metadata": {},
   "source": [
    "### Session Lengths"
   ]
  },
  {
   "cell_type": "code",
   "execution_count": null,
   "metadata": {
    "collapsed": true
   },
   "outputs": [],
   "source": [
    "SESSION_MAX = 250"
   ]
  },
  {
   "cell_type": "code",
   "execution_count": null,
   "metadata": {
    "collapsed": true
   },
   "outputs": [],
   "source": [
    "session_lengths = unique_pings\\\n",
    "    .map(lambda p: p[\"payload/info/sessionLength\"] if p[\"payload/info/sessionLength\"] < SESSION_MAX else SESSION_MAX)\\\n",
    "    .collect()"
   ]
  },
  {
   "cell_type": "code",
   "execution_count": null,
   "metadata": {
    "collapsed": false
   },
   "outputs": [],
   "source": [
    "s = pd.Series(session_lengths)\n",
    "s.hist(bins=250, figsize=(17, 7))\n",
    "plt.ylabel(\"ping count\")\n",
    "plt.xlabel(\"session length in seconds\")\n",
    "plt.xticks(np.arange(0, max(s) + 1, 5))\n",
    "plt.show()"
   ]
  },
  {
   "cell_type": "markdown",
   "metadata": {},
   "source": [
    "Not sure how this compares to \"normal\" session lengths on Aurora. But a peak around 1m and another around 1m15s is way too short for a human to be getting anything meaningful done."
   ]
  },
  {
   "cell_type": "markdown",
   "metadata": {},
   "source": [
    "### Default Browser?"
   ]
  },
  {
   "cell_type": "code",
   "execution_count": null,
   "metadata": {
    "collapsed": false
   },
   "outputs": [],
   "source": [
    "unique_pings.map(lambda p: (p[\"environment/settings/isDefaultBrowser\"], 1)).countByKey()"
   ]
  },
  {
   "cell_type": "markdown",
   "metadata": {},
   "source": [
    "Nope. (Note that this may mean nothing at all. Some platforms (lookin' at you, Windows 10) make it difficult to set your default browser. Also: even without it being default it can be used if the user's workflow is to always start by opening their browser.)"
   ]
  },
  {
   "cell_type": "markdown",
   "metadata": {},
   "source": [
    "### CPU Speed"
   ]
  },
  {
   "cell_type": "code",
   "execution_count": null,
   "metadata": {
    "collapsed": true
   },
   "outputs": [],
   "source": [
    "MHZ_MAX = 5000"
   ]
  },
  {
   "cell_type": "code",
   "execution_count": null,
   "metadata": {
    "collapsed": true
   },
   "outputs": [],
   "source": [
    "mhzes = unique_pings\\\n",
    "    .map(lambda p: p[\"environment/system/cpu/speedMHz\"] if p[\"environment/system/cpu/speedMHz\"] < MHZ_MAX else MHZ_MAX)\\\n",
    "    .collect()"
   ]
  },
  {
   "cell_type": "code",
   "execution_count": null,
   "metadata": {
    "collapsed": false
   },
   "outputs": [],
   "source": [
    "ds = pd.Series(mhzes)\n",
    "ds.hist(bins=250, figsize=(17, 7))\n",
    "plt.ylabel(\"ping count (log)\")\n",
    "plt.xlabel(\"speed in MHz\")\n",
    "plt.yscale(\"log\")\n",
    "plt.show()"
   ]
  },
  {
   "cell_type": "code",
   "execution_count": null,
   "metadata": {
    "collapsed": false
   },
   "outputs": [],
   "source": [
    "ds.value_counts()[:10]"
   ]
  },
  {
   "cell_type": "markdown",
   "metadata": {},
   "source": [
    "Nowhere near as monocultural as the original analysis suspected, but still not a very broad spread."
   ]
  },
  {
   "cell_type": "markdown",
   "metadata": {},
   "source": [
    "### Operating System"
   ]
  },
  {
   "cell_type": "code",
   "execution_count": null,
   "metadata": {
    "collapsed": true
   },
   "outputs": [],
   "source": [
    "def major_minor(version_string):\n",
    "    return version_string.split('.')[0] + '.' + version_string.split('.')[1]"
   ]
  },
  {
   "cell_type": "code",
   "execution_count": null,
   "metadata": {
    "collapsed": true
   },
   "outputs": [],
   "source": [
    "pings_per_os = unique_pings\\\n",
    "    .map(lambda p: (p[\"environment/system/os/name\"] + \" \" + major_minor(p[\"environment/system/os/version\"]), 1))\\\n",
    "    .countByKey()"
   ]
  },
  {
   "cell_type": "code",
   "execution_count": null,
   "metadata": {
    "collapsed": false
   },
   "outputs": [],
   "source": [
    "print len(pings_per_os)\n",
    "sorted(pings_per_os.items(), key=lambda x: x[1], reverse=True)[:10]"
   ]
  },
  {
   "cell_type": "markdown",
   "metadata": {},
   "source": [
    "100% Windows XP. I should be more surprised."
   ]
  },
  {
   "cell_type": "markdown",
   "metadata": {},
   "source": [
    "### Physical Location (geo-ip of submitting host)"
   ]
  },
  {
   "cell_type": "code",
   "execution_count": null,
   "metadata": {
    "collapsed": true
   },
   "outputs": [],
   "source": [
    "pings_per_city = unique_pings\\\n",
    "    .map(lambda p: (p[\"meta/geoCountry\"] + \" \" + p[\"meta/geoCity\"], 1))\\\n",
    "    .countByKey()"
   ]
  },
  {
   "cell_type": "code",
   "execution_count": null,
   "metadata": {
    "collapsed": false
   },
   "outputs": [],
   "source": [
    "print len(pings_per_city)\n",
    "sorted(pings_per_city.items(), key=lambda x: x[1], reverse=True)[:10]"
   ]
  },
  {
   "cell_type": "markdown",
   "metadata": {},
   "source": [
    "As expected, this is little different from the analysis over the duplicated pings. The hosts submitting even the duplicated pings have come from the world over.\n",
    "\n",
    "That being said, Montreal's very highly represented here. It's a lovely city and all, but what conditions might result in its unexpected prominence?"
   ]
  },
  {
   "cell_type": "markdown",
   "metadata": {},
   "source": [
    "### Conclusion"
   ]
  },
  {
   "cell_type": "markdown",
   "metadata": {},
   "source": [
    "#### What has changed since the first analysis?\n",
    "Well, we now know that the overwhelming majority of pings sent by this client are geographically diverse and duplicated. This suggests that these instances were packaged up with their profile data directory intact, and are submitting a pre-packaged ping as soon as they come online.\n",
    "\n",
    "This means the duplicated pings likely reflect the environment of the original host where the package was created: Windows XP, 3.5GHz CPU, 2m35s-long session, with Random Agent Spoofer installed.\n",
    "\n",
    "These pings reflect likely reflect the hosts that are actually sending the pings: geographically diverse, but still running Windows XP while spending inhumanly-short times within the browser.\n",
    "\n",
    "#### What hasn't changed since the first analysis?\n",
    "We still don't know why this is happening. We do know that the number of initial duplicate pings we're receiving is continuing to increase. I see no sign of this ever stopping."
   ]
  }
 ],
 "metadata": {
  "anaconda-cloud": {},
  "kernelspec": {
   "display_name": "Python [default]",
   "language": "python",
   "name": "python2"
  },
  "language_info": {
   "codemirror_mode": {
    "name": "ipython",
    "version": 2
   },
   "file_extension": ".py",
   "mimetype": "text/x-python",
   "name": "python",
   "nbconvert_exporter": "python",
   "pygments_lexer": "ipython2",
   "version": "2.7.12"
  }
 },
 "nbformat": 4,
 "nbformat_minor": 0
}
