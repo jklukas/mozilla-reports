{
 "cells": [
  {
   "cell_type": "raw",
   "metadata": {},
   "source": [
    "---\n",
    "title: TxP Pulse ETL\n",
    "authors:\n",
    "- sunahsuh\n",
    "tags:\n",
    "- testpilot\n",
    "- etl\n",
    "created_at: 2017-02-17\n",
    "updated_at: 2017-02-17\n",
    "tldr: This notebook transforms pings from the Pulse testpilot test to a parquet dataset. Docs at https://github.com/mozilla/pulse/blob/master/docs/metrics.md\n",
    "---"
   ]
  },
  {
   "cell_type": "code",
   "execution_count": null,
   "metadata": {
    "collapsed": false
   },
   "outputs": [],
   "source": [
    "from datetime import *\n",
    "import dateutil.parser\n",
    "from pyspark.sql.types import *\n",
    "\n",
    "from moztelemetry import get_pings_properties\n",
    "from moztelemetry.dataset import Dataset\n",
    "\n",
    "\n",
    "class ColumnConfig:\n",
    "    def __init__(self, name, path, cleaning_func, struct_type):\n",
    "        self.name = name\n",
    "        self.path = path\n",
    "        self.cleaning_func = cleaning_func\n",
    "        self.struct_type = struct_type\n",
    "\n",
    "class DataFrameConfig:\n",
    "    def __init__(self, col_configs):\n",
    "        self.columns = [ColumnConfig(*col) for col in col_configs]\n",
    "\n",
    "    def toStructType(self):\n",
    "        return StructType(map(\n",
    "            lambda col: StructField(col.name, col.struct_type, True),\n",
    "            self.columns))\n",
    "\n",
    "    def get_names(self):\n",
    "        return map(lambda col: col.name, self.columns)\n",
    "\n",
    "    def get_paths(self):\n",
    "        return map(lambda col: col.path, self.columns)\n",
    "\n",
    "\n",
    "\n",
    "def pings_to_df(sqlContext, pings, data_frame_config):\n",
    "    \"\"\"Performs simple data pipelining on raw pings\n",
    "\n",
    "    Arguments:\n",
    "        data_frame_config: a list of tuples of the form:\n",
    "                 (name, path, cleaning_func, column_type)\n",
    "    \"\"\"\n",
    "    def build_cell(ping, column_config):\n",
    "        \"\"\"Takes a json ping and a column config and returns a cleaned cell\"\"\"\n",
    "        raw_value = ping[column_config.path]\n",
    "        func = column_config.cleaning_func\n",
    "        if func is not None:\n",
    "            return func(raw_value)\n",
    "        else:\n",
    "            return raw_value\n",
    "\n",
    "    def ping_to_row(ping):\n",
    "        return [build_cell(ping, col) for col in data_frame_config.columns]\n",
    "\n",
    "    filtered_pings = get_pings_properties(pings, data_frame_config.get_paths())\n",
    "\n",
    "    return sqlContext.createDataFrame(\n",
    "        filtered_pings.map(ping_to_row),\n",
    "        schema = data_frame_config.toStructType())\n",
    "\n",
    "def __main__(sc, sqlContext, submission_date):\n",
    "    if submission_date is None:\n",
    "        submission_date = (date.today() - timedelta(1)).strftime(\"%Y%m%d\")\n",
    "    get_doctype_pings = lambda docType: Dataset.from_source(\"telemetry\") \\\n",
    "        .where(docType=docType) \\\n",
    "        .where(submissionDate=submission_date) \\\n",
    "        .where(appName=\"Firefox\") \\\n",
    "        .records(sc)\n",
    "\n",
    "    return pings_to_df(\n",
    "        sqlContext,\n",
    "        get_doctype_pings(\"testpilottest\"),\n",
    "        DataFrameConfig([\n",
    "            (\"method\", \"payload/payload/method\", None, StringType()),\n",
    "            (\"id\", \"payload/payload/id\", None, StringType()),\n",
    "            (\"type\", \"payload/payload/type\", None, StringType()),\n",
    "            (\"object\", \"payload/payload/object\", None, StringType()),\n",
    "            (\"category\", \"payload/payload/category\", None, StringType()),\n",
    "            (\"variant\", \"payload/payload/variant\", None, StringType()),\n",
    "            (\"details\", \"payload/payload/details\", None, StringType()),\n",
    "            (\"sentiment\", \"payload/payload/sentiment\", None, IntegerType()),\n",
    "            (\"reason\", \"payload/payload/reason\", None, StringType()),\n",
    "            (\"adBlocker\", \"payload/payload/adBlocker\", None, BooleanType()),\n",
    "            (\"addons\", \"payload/payload/addons\", None, ArrayType(StringType())),\n",
    "            (\"channel\", \"payload/payload/channel\", None, StringType()),\n",
    "            (\"hostname\", \"payload/payload/hostname\", None, StringType()),\n",
    "            (\"language\", \"payload/payload/language\", None, StringType()),\n",
    "            (\"openTabs\", \"payload/payload/openTabs\", None, IntegerType()),\n",
    "            (\"openWindows\", \"payload/payload/openWindows\", None, IntegerType()),\n",
    "            (\"platform\", \"payload/payload/platform\", None, StringType()),\n",
    "            (\"protocol\", \"payload/payload/protocol\", None, StringType()),\n",
    "            (\"telemetryId\", \"payload/payload/telemetryId\", None, StringType()),\n",
    "            (\"timerContentLoaded\", \"payload/payload/timerContentLoaded\", None, LongType()),\n",
    "            (\"timerFirstInteraction\", \"payload/payload/timerFirstInteraction\", None, LongType()),\n",
    "            (\"timerFirstPaint\", \"payload/payload/timerFirstPaint\", None, LongType()),\n",
    "            (\"timerWindowLoad\", \"payload/payload/timerWindowLoad\", None, LongType()),\n",
    "            (\"inner_timestamp\", \"payload/payload/timestamp\", None, LongType()),\n",
    "            (\"fx_version\", \"payload/payload/fx_version\", None, StringType()),\n",
    "            (\"creation_date\", \"creationDate\", dateutil.parser.parse, TimestampType()),\n",
    "            (\"test\", \"payload/test\", None, StringType()),\n",
    "            (\"variants\", \"payload/variants\", None, StringType()),\n",
    "            (\"timestamp\", \"payload/timestamp\", None, LongType()),\n",
    "            (\"version\", \"payload/version\", None, StringType())\n",
    "        ])).filter(\"test = 'pulse@mozilla.com'\")"
   ]
  },
  {
   "cell_type": "code",
   "execution_count": null,
   "metadata": {
    "collapsed": true
   },
   "outputs": [],
   "source": [
    "submission_date = (date.today() - timedelta(1)).strftime(\"%Y%m%d\")"
   ]
  },
  {
   "cell_type": "code",
   "execution_count": null,
   "metadata": {
    "collapsed": false
   },
   "outputs": [],
   "source": [
    "tpt = __main__(sc, sqlContext, submission_date)"
   ]
  },
  {
   "cell_type": "code",
   "execution_count": null,
   "metadata": {
    "collapsed": false
   },
   "outputs": [],
   "source": [
    "tpt.repartition(1).write.parquet('s3://telemetry-parquet/testpilot/txp_pulse/v1/submission_date={}'.format(submission_date))"
   ]
  }
 ],
 "metadata": {
  "anaconda-cloud": {},
  "kernelspec": {
   "display_name": "Python [conda root]",
   "language": "python",
   "name": "conda-root-py"
  },
  "language_info": {
   "codemirror_mode": {
    "name": "ipython",
    "version": 2
   },
   "file_extension": ".py",
   "mimetype": "text/x-python",
   "name": "python",
   "nbconvert_exporter": "python",
   "pygments_lexer": "ipython2",
   "version": "2.7.12"
  }
 },
 "nbformat": 4,
 "nbformat_minor": 1
}