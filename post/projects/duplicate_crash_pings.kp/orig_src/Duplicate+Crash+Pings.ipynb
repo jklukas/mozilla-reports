{
 "cells": [
  {
   "cell_type": "raw",
   "metadata": {},
   "source": [
    "---\n",
    "title: \"Duplicate Crash Pings\"\n",
    "authors:\n",
    "- chutten\n",
    "tags:\n",
    "- duplicate\n",
    "- dedupe\n",
    "- crash\n",
    "created_at: 2017-04-07\n",
    "updated_at: 2017-04-07\n",
    "tldr: When the patches landed to dedupe crash pings (bug 1354468 has the list), did they work?\n",
    "---"
   ]
  },
  {
   "cell_type": "markdown",
   "metadata": {},
   "source": [
    "### How many duplicate crash pings are we receiving on Nightly/Aurora from 2017-02-10 - 2017-04-07?"
   ]
  },
  {
   "cell_type": "code",
   "execution_count": null,
   "metadata": {
    "collapsed": false
   },
   "outputs": [],
   "source": [
    "import pandas as pd\n",
    "import numpy as np\n",
    "import matplotlib\n",
    "\n",
    "from matplotlib import pyplot as plt\n",
    "from moztelemetry.dataset import Dataset\n",
    "from moztelemetry import get_pings_properties, get_one_ping_per_client"
   ]
  },
  {
   "cell_type": "code",
   "execution_count": null,
   "metadata": {
    "collapsed": false
   },
   "outputs": [],
   "source": [
    "pings = Dataset.from_source(\"telemetry\")\\\n",
    "    .where(docType='crash')\\\n",
    "    .where(appName='Firefox')\\\n",
    "    .where(appUpdateChannel=lambda x: x == 'nightly' or x == 'aurora')\\\n",
    "    .where(appBuildId=lambda x: x > '20170210' and x < '20170408')\\\n",
    "    .records(sc, sample=1)"
   ]
  },
  {
   "cell_type": "code",
   "execution_count": null,
   "metadata": {
    "collapsed": true
   },
   "outputs": [],
   "source": [
    "subset = get_pings_properties(pings, [\"id\", \"application/channel\", \"application/buildId\"])"
   ]
  },
  {
   "cell_type": "markdown",
   "metadata": {},
   "source": [
    "To get the proportions of each builds' crash pings that were duplicated, get the full count and the deduplicated count per-build."
   ]
  },
  {
   "cell_type": "code",
   "execution_count": null,
   "metadata": {
    "collapsed": false,
    "scrolled": true
   },
   "outputs": [],
   "source": [
    "build_counts = subset.map(lambda s: ((s[\"application/buildId\"][:8], s[\"application/channel\"]), 1)).countByKey()"
   ]
  },
  {
   "cell_type": "code",
   "execution_count": null,
   "metadata": {
    "collapsed": false,
    "scrolled": true
   },
   "outputs": [],
   "source": [
    "deduped_counts = subset\\\n",
    "    .map(lambda s: (s[\"id\"], s))\\\n",
    "    .reduceByKey(lambda a, b: a)\\\n",
    "    .map(lambda pair: pair[1])\\\n",
    "    .map(lambda s: ((s[\"application/buildId\"][:8], s[\"application/channel\"]), 1)).countByKey()"
   ]
  },
  {
   "cell_type": "code",
   "execution_count": null,
   "metadata": {
    "collapsed": true
   },
   "outputs": [],
   "source": [
    "from datetime import datetime"
   ]
  },
  {
   "cell_type": "code",
   "execution_count": null,
   "metadata": {
    "collapsed": false
   },
   "outputs": [],
   "source": [
    "sorted_counts = sorted(build_counts.iteritems())"
   ]
  },
  {
   "cell_type": "code",
   "execution_count": null,
   "metadata": {
    "collapsed": true
   },
   "outputs": [],
   "source": [
    "sorted_deduped = sorted(deduped_counts.iteritems())"
   ]
  },
  {
   "cell_type": "code",
   "execution_count": null,
   "metadata": {
    "collapsed": false
   },
   "outputs": [],
   "source": [
    "plt.figure(figsize=(16, 10))\n",
    "plt.plot([datetime.strptime(k[0], '%Y%m%d') for k,v in sorted_deduped if k[1] == 'nightly'], [100.0 * (build_counts[k] - v) / build_counts[k] for k,v in sorted_deduped if k[1] == 'nightly'])\n",
    "plt.plot([datetime.strptime(k[0], '%Y%m%d') for k,v in sorted_deduped if k[1] == 'aurora'], [100.0 * (build_counts[k] - v) / build_counts[k] for k,v in sorted_deduped if k[1] == 'aurora'])\n",
    "plt.ylabel(\"% of submitted crash pings that are duplicate\")\n",
    "plt.xlabel(\"Build date\")\n",
    "plt.show()"
   ]
  },
  {
   "cell_type": "markdown",
   "metadata": {},
   "source": [
    "#### Conclusion:\n",
    "\n",
    "Looks like something happened on March 30 on Nightly and April 5 on Aurora to drastically reduce the proportion of duplicate crash pings we've been seeing."
   ]
  }
 ],
 "metadata": {
  "anaconda-cloud": {},
  "kernelspec": {
   "display_name": "Python [default]",
   "language": "python",
   "name": "python2"
  },
  "language_info": {
   "codemirror_mode": {
    "name": "ipython",
    "version": 2
   },
   "file_extension": ".py",
   "mimetype": "text/x-python",
   "name": "python",
   "nbconvert_exporter": "python",
   "pygments_lexer": "ipython2",
   "version": "2.7.12"
  }
 },
 "nbformat": 4,
 "nbformat_minor": 1
}
