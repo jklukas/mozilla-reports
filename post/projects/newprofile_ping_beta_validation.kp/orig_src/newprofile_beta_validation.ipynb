{
 "cells": [
  {
   "cell_type": "raw",
   "metadata": {},
   "source": [
    "---\n",
    "title: \"new-profile ping validation on Beta\"\n",
    "authors:\n",
    "- dexter\n",
    "tags:\n",
    "- new-profile\n",
    "- latency\n",
    "- telemetry\n",
    "- spark\n",
    "created_at: 2017-07-04\n",
    "updated_at: 2017-07-04\n",
    "tldr: This notebook verifies that the 'new-profile' ping behaves as expected on the Beta channel.\n",
    "---"
   ]
  },
  {
   "cell_type": "markdown",
   "metadata": {},
   "source": [
    "# Validate `new-profile` submissions on Beta\n",
    "This analysis validates the `new-profile` pings submitted by Beta builds for one week since it hit that channel. We are going to verify that:\n",
    "\n",
    "- the `new-profile` ping is received within a reasonable time after the profile creation;\n",
    "- we receive one ping per client;\n",
    "- we don't receive many duplicates overall."
   ]
  },
  {
   "cell_type": "code",
   "execution_count": null,
   "metadata": {
    "collapsed": false,
    "scrolled": true
   },
   "outputs": [],
   "source": [
    "import ujson as json\n",
    "import matplotlib.pyplot as plt\n",
    "import pandas as pd\n",
    "import numpy as np\n",
    "import plotly.plotly as py\n",
    "import IPython\n",
    "\n",
    "from plotly.graph_objs import *\n",
    "from moztelemetry import get_pings_properties, get_one_ping_per_client\n",
    "from moztelemetry.dataset import Dataset\n",
    "from datetime import datetime, timedelta\n",
    "\n",
    "%matplotlib inline\n",
    "IPython.core.pylabtools.figsize(16, 7)"
   ]
  },
  {
   "cell_type": "markdown",
   "metadata": {},
   "source": [
    "We'll be looking at the pings that have been coming in since June 14th to June 20th 2017 (Beta 55).  "
   ]
  },
  {
   "cell_type": "code",
   "execution_count": null,
   "metadata": {
    "collapsed": false
   },
   "outputs": [],
   "source": [
    "# Note that the 'new-profile' ping needs to use underscores in the Dataset API due to bug.\n",
    "pings = Dataset.from_source(\"telemetry\") \\\n",
    "    .where(docType='new_profile') \\\n",
    "    .where(appUpdateChannel=\"beta\") \\\n",
    "    .where(submissionDate=lambda x: \"20170614\" <= x < \"20170620\") \\\n",
    "    .where(appBuildId=lambda x: \"20170612\" <= x < \"20170622\") \\\n",
    "    .records(sc, sample=1.0)"
   ]
  },
  {
   "cell_type": "code",
   "execution_count": null,
   "metadata": {
    "collapsed": false
   },
   "outputs": [],
   "source": [
    "ping_count = pings.count()"
   ]
  },
  {
   "cell_type": "markdown",
   "metadata": {},
   "source": [
    "### How many pings were sent in-session and how many at shutdown?\n",
    "The `new-profile` ping can be sent either during the browsing session, 30 minutes after the browser starts, or at shutdown ([docs](https://gecko.readthedocs.io/en/latest/toolkit/components/telemetry/telemetry/data/new-profile-ping.html#payload-reason)). Let's see how many pings we get in each case."
   ]
  },
  {
   "cell_type": "code",
   "execution_count": null,
   "metadata": {
    "collapsed": false
   },
   "outputs": [],
   "source": [
    "raw_subset = get_pings_properties(pings, [\"id\",\n",
    "                                          \"meta/creationTimestamp\",\n",
    "                                          \"meta/Date\",\n",
    "                                          \"meta/Timestamp\",\n",
    "                                          \"meta/X-PingSender-Version\",\n",
    "                                          \"clientId\",\n",
    "                                          \"environment/profile/creationDate\",\n",
    "                                          \"payload/reason\"])"
   ]
  },
  {
   "cell_type": "markdown",
   "metadata": {},
   "source": [
    "Discard and count any ping that's missing creationTimestamp or Timestamp."
   ]
  },
  {
   "cell_type": "code",
   "execution_count": null,
   "metadata": {
    "collapsed": false
   },
   "outputs": [],
   "source": [
    "def pct(a, b):\n",
    "    return 100.0 * a / b\n",
    "\n",
    "subset = raw_subset.filter(lambda p: p[\"meta/creationTimestamp\"] is not None and p[\"meta/Timestamp\"] is not None)\n",
    "print(\"'new-profile' pings with missing timestamps:\\t{:.2f}%\".format(pct(ping_count - subset.count(), ping_count)))"
   ]
  },
  {
   "cell_type": "code",
   "execution_count": null,
   "metadata": {
    "collapsed": false
   },
   "outputs": [],
   "source": [
    "reason_counts = subset.map(lambda p: p.get(\"payload/reason\")).countByValue()\n",
    "\n",
    "for reason, count in reason_counts.iteritems():\n",
    "    print(\"'new-profile' pings with reason '{}':\\t{:.2f}%\".format(reason, pct(count, ping_count)))"
   ]
  },
  {
   "cell_type": "markdown",
   "metadata": {},
   "source": [
    "This means that, among all the `new-profile` pings, the majority was sent at shutdown. This could mean different things:\n",
    "\n",
    "- the browsing session lasted less than 30 minutes;\n",
    "- we're receiving duplicate pings at shutdown.\n",
    "\n",
    "### Let's check how many duplicates we've seen"
   ]
  },
  {
   "cell_type": "code",
   "execution_count": null,
   "metadata": {
    "collapsed": false
   },
   "outputs": [],
   "source": [
    "def dedupe(pings, duping_key):\n",
    "    return pings\\\n",
    "            .map(lambda p: (p[duping_key], p))\\\n",
    "            .reduceByKey(lambda a, b: a if a[\"meta/Timestamp\"] < b[\"meta/Timestamp\"] else b)\\\n",
    "            .map(lambda pair: pair[1])\n",
    "\n",
    "deduped_docid = dedupe(subset, \"id\")\n",
    "deduped_docid_count = deduped_docid.count()\n",
    "total_duplicates = ping_count - deduped_docid_count\n",
    "print(\"Duplicate pings percentage (by document id): {:.2f}%\".format(pct(total_duplicates, ping_count)))"
   ]
  },
  {
   "cell_type": "markdown",
   "metadata": {},
   "source": [
    "The 0.43% of ping duplicates is nice, compared to ~1% we usually get from the `main` and `crash` pings. However, nowdays we're running de-duplication by document id at the pipeline ingestion, so this might be a bit higher. To check that, we have a `telemetry_duplicates_parquet` table and [this handy query](https://sql.telemetry.mozilla.org/queries/5432) that says 4 duplicates were filtered on the pipeline. This means that our 0.43% is basically the real duplicate rate for the `new-profile` ping on Beta."
   ]
  },
  {
   "cell_type": "markdown",
   "metadata": {},
   "source": [
    "Did we send different pings for the same client id? We shouldn't, as we send at most one 'new-profile' ping per client."
   ]
  },
  {
   "cell_type": "code",
   "execution_count": null,
   "metadata": {
    "collapsed": false
   },
   "outputs": [],
   "source": [
    "deduped_clientid = dedupe(deduped_docid, \"clientId\")\n",
    "total_duplicates_clientid = deduped_docid_count - deduped_clientid.count()\n",
    "print(\"Duplicate pings percentage (by client id): {:.2f}%\".format(pct(total_duplicates_clientid, deduped_docid_count)))"
   ]
  },
  {
   "cell_type": "markdown",
   "metadata": {},
   "source": [
    "That's disappointing: it looks like we're receiving multiple `new-profile` pings for some clients. Let's dig into this by analysing the set of pings deduped by document id. To have a clearer picture of the problem, let's make sure to aggregate the duplicates ordered by the time they were created on the client."
   ]
  },
  {
   "cell_type": "code",
   "execution_count": null,
   "metadata": {
    "collapsed": false
   },
   "outputs": [],
   "source": [
    "# Builds an RDD with (<client id>, [<ordered reason>, <ordered reason>, ...])\n",
    "clients_with_dupes = deduped_docid.map(lambda p: (p[\"clientId\"], [(p[\"payload/reason\"], p[\"meta/creationTimestamp\"])]))\\\n",
    "                                  .reduceByKey(lambda a, b: sorted(a + b, key=lambda k: k[1]))\\\n",
    "                                  .filter(lambda p: len(p[1]) > 1)\\\n",
    "                                  .map(lambda p: (p[0], [r[0] for r in p[1]]))\n",
    "\n",
    "# Check how often each case occurs. Hide the counts.\n",
    "[k for k, v in\\\n",
    "    sorted(clients_with_dupes.map(lambda p: tuple(p[1])).countByValue().items(), key=lambda k: k[1], reverse=True)]"
   ]
  },
  {
   "cell_type": "code",
   "execution_count": null,
   "metadata": {
    "collapsed": true
   },
   "outputs": [],
   "source": [
    "collected_clientid_reasons = clients_with_dupes.collect()"
   ]
  },
  {
   "cell_type": "code",
   "execution_count": null,
   "metadata": {
    "collapsed": false
   },
   "outputs": [],
   "source": [
    "num_shutdown_dupes = sum([len(filter(lambda e: e == 'shutdown', t[1])) for t in collected_clientid_reasons])\n",
    "print(\"Duplicate 'shutdown' pings percentage (by client id): {:.2f}%\"\\\n",
    "      .format(pct(num_shutdown_dupes, ping_count)))"
   ]
  },
  {
   "cell_type": "markdown",
   "metadata": {},
   "source": [
    "The multiple pings we're receiving for the same client id are mostly `new-profile` pings with reason `shutdown`. This is not too surprising, as most of the `new-profile` pings are being sent at shutdown (78%).\n",
    "\n",
    "But does the pingsender have anything to do with this? Let's attack the problem like this:\n",
    "\n",
    "- get a list of the \"misbehaving\" clients;\n",
    "- take a peek at their pings (redact client ids/ids);\n",
    "- figure out the next steps."
   ]
  },
  {
   "cell_type": "code",
   "execution_count": null,
   "metadata": {
    "collapsed": false
   },
   "outputs": [],
   "source": [
    "misbehaving_clients = list(set([client_id for client_id, data in collected_clientid_reasons]))"
   ]
  },
  {
   "cell_type": "code",
   "execution_count": null,
   "metadata": {
    "collapsed": false
   },
   "outputs": [],
   "source": [
    "count_reason_pingsender = subset\\\n",
    "                            .filter(lambda p: p.get(\"clientId\") in misbehaving_clients)\\\n",
    "                            .map(lambda p: (p.get(\"payload/reason\"), p.get(\"meta/X-PingSender-Version\")))\\\n",
    "                            .countByValue()\n",
    "\n",
    "for reason, count in count_reason_pingsender.items():\n",
    "    print(\"{}:\\t{}\".format(reason, pct(count, sum(count_reason_pingsender.values()))))"
   ]
  },
  {
   "cell_type": "markdown",
   "metadata": {},
   "source": [
    "Looks like some of these pings are missing the pingsender header from the request. While this is expected for `new-profile` pings with reason `startup`, as they are being sent while Firefox is still active, there might be reasons why this also happens at shutdown:\n",
    "\n",
    "- that they are not being sent from the pingsender, even though they are generated at shutdown: the pingsender might have failed due to network problems/server problems and Firefox picked them up at the next restart; in this case they would have the same document id;\n",
    "- that we generated a new-profile ping at shutdown, but failed to mark it as 'generated', and so we received more than one with a different document id.\n",
    "\n",
    "This leads to other questions:\n",
    "\n",
    "- How often do we send new-profile pings at shutdown, fail, and then send them again without the pingsender?\n",
    "- Does that correlate with the duplicates?"
   ]
  },
  {
   "cell_type": "code",
   "execution_count": null,
   "metadata": {
    "collapsed": true
   },
   "outputs": [],
   "source": [
    "newprofile_shutdown_from_bad_clients =\\\n",
    "    subset.filter(lambda p: p.get(\"payload/reason\") == 'shutdown')\\\n",
    "          .filter(lambda p: p.get(\"clientId\") in misbehaving_clients)\n",
    "\n",
    "newprofile_shutdown_from_good_clients =\\\n",
    "    subset.filter(lambda p: p.get(\"payload/reason\") == 'shutdown')\\\n",
    "          .filter(lambda p: p.get(\"clientId\") not in misbehaving_clients)"
   ]
  },
  {
   "cell_type": "code",
   "execution_count": null,
   "metadata": {
    "collapsed": false
   },
   "outputs": [],
   "source": [
    "dict_dump = newprofile_shutdown_from_bad_clients\\\n",
    "    .map(lambda p: p.get(\"meta/X-PingSender-Version\")).countByValue()\n",
    "# Just print the percentages.\n",
    "print(\"Pingsender header breakdown for misbehaving clients:\")\n",
    "den = sum(dict_dump.values())\n",
    "for k, v in dict_dump.items():\n",
    "    print(\"{}:\\t{}\".format(k, pct(v, den)))"
   ]
  },
  {
   "cell_type": "markdown",
   "metadata": {},
   "source": [
    "This is telling us that most of the shutdown `new-profile` pings are coming from the pingsender, about 73% (the _1.0_ header represents the pingsender)."
   ]
  },
  {
   "cell_type": "code",
   "execution_count": null,
   "metadata": {
    "collapsed": false
   },
   "outputs": [],
   "source": [
    "dict_dump = newprofile_shutdown_from_good_clients\\\n",
    "    .map(lambda p: p.get(\"meta/X-PingSender-Version\")).countByValue()\n",
    "# Just print the percentages.\n",
    "print(\"Pingsender header breakdown for well behaving clients:\")\n",
    "den = sum(dict_dump.values())\n",
    "for k, v in dict_dump.items():\n",
    "    print(\"{}:\\t{}\".format(k, pct(v, den)))"
   ]
  },
  {
   "cell_type": "markdown",
   "metadata": {},
   "source": [
    "This is somehow true with well-behaved clients, as 69% of the same pings are coming with the pingsender. The pingsender doesn't seem to be the issue here: if we generate a ping at shutdown and try to send it with the pingsender, and fail, then it's normal for Firefox to pick it back up and send it. As long as we don't generate a new, different, `new-profile` ping for the same client."
   ]
  },
  {
   "cell_type": "markdown",
   "metadata": {},
   "source": [
    "### Does the profileCreationDate match the date we received the pings?"
   ]
  },
  {
   "cell_type": "code",
   "execution_count": null,
   "metadata": {
    "collapsed": false
   },
   "outputs": [],
   "source": [
    "def datetime_from_daysepoch(days_from_epoch):\n",
    "    return datetime(1970, 1, 1, 0, 0) + timedelta(days=days_from_epoch)\n",
    "\n",
    "def datetime_from_nanosepoch(nanos_from_epoch):\n",
    "    return datetime.fromtimestamp(nanos_from_epoch / 1000.0 / 1000.0 / 1000.0)\n",
    "\n",
    "def get_times(p):\n",
    "    profile_creation = datetime_from_daysepoch(p[\"environment/profile/creationDate\"])\\\n",
    "                            if p[\"environment/profile/creationDate\"] else None\n",
    "    ping_creation = datetime_from_nanosepoch(p[\"meta/creationTimestamp\"])\n",
    "    ping_recv = datetime_from_nanosepoch(p[\"meta/Timestamp\"])\n",
    "    \n",
    "    return (p[\"id\"], profile_creation, ping_creation, ping_recv)\n",
    "    \n",
    "ping_times = deduped_clientid.map(get_times)"
   ]
  },
  {
   "cell_type": "code",
   "execution_count": null,
   "metadata": {
    "collapsed": false
   },
   "outputs": [],
   "source": [
    "ping_creation_delay_days = ping_times.filter(lambda p: p[1] is not None)\\\n",
    "                                     .map(lambda p: abs((p[1].date() - p[2].date()).days)).collect()"
   ]
  },
  {
   "cell_type": "code",
   "execution_count": null,
   "metadata": {
    "collapsed": false
   },
   "outputs": [],
   "source": [
    "plt.title(\"The distribution of the days between the profile creationDate and the 'new-profile' ping creation date\")\n",
    "plt.xlabel(\"Difference in days\")\n",
    "plt.ylabel(\"Frequency\")\n",
    "\n",
    "CLIP_DAY = 30\n",
    "plt.xticks(range(0, CLIP_DAY + 1, 1))\n",
    "plt.hist(np.clip(ping_creation_delay_days, 0, CLIP_DAY),\n",
    "         alpha=0.5, bins=50, label=\"Delays\")"
   ]
  },
  {
   "cell_type": "code",
   "execution_count": null,
   "metadata": {
    "collapsed": false
   },
   "outputs": [],
   "source": [
    "np.percentile(np.array(ping_creation_delay_days), [50, 70, 80, 95, 99])"
   ]
  },
  {
   "cell_type": "markdown",
   "metadata": {},
   "source": [
    "The plot shows that most of the creation dates for `new-profile` pings match exactly with the date reported in the environment, `creationDate`. That's good, as this ping should be created very close to the profile creation. The percentile computation confirms that's true for 80% of the `new-profile` pings.\n",
    "\n",
    "### Cross-check the `new-profile` and `main` pings "
   ]
  },
  {
   "cell_type": "code",
   "execution_count": null,
   "metadata": {
    "collapsed": false
   },
   "outputs": [],
   "source": [
    "main_pings = Dataset.from_source(\"telemetry\") \\\n",
    "                    .where(docType='main') \\\n",
    "                    .where(appUpdateChannel=\"beta\") \\\n",
    "                    .where(submissionDate=lambda x: \"20170614\" <= x < \"20170620\") \\\n",
    "                    .where(appBuildId=lambda x: \"20170612\" <= x < \"20170622\") \\\n",
    "                    .records(sc, sample=1.0)"
   ]
  },
  {
   "cell_type": "code",
   "execution_count": null,
   "metadata": {
    "collapsed": true
   },
   "outputs": [],
   "source": [
    "main_subset = get_pings_properties(main_pings, [\"id\",\n",
    "                                                \"meta/creationTimestamp\",\n",
    "                                                \"meta/Date\",\n",
    "                                                \"meta/Timestamp\",\n",
    "                                                \"meta/X-PingSender-Version\",\n",
    "                                                \"clientId\",\n",
    "                                                \"environment/profile/creationDate\",\n",
    "                                                \"payload/info/reason\",\n",
    "                                                \"payload/info/sessionLength\",\n",
    "                                                \"payload/info/subsessionLength\",\n",
    "                                                \"payload/info/profileSubsessionCounter\",\n",
    "                                                \"payload/info/previousSessionId\"])"
   ]
  },
  {
   "cell_type": "markdown",
   "metadata": {},
   "source": [
    "Dedupe by document id and restrict the `main` ping data to the pings from the misbehaving and well behaving clients."
   ]
  },
  {
   "cell_type": "code",
   "execution_count": null,
   "metadata": {
    "collapsed": false
   },
   "outputs": [],
   "source": [
    "well_behaving_clients =\\\n",
    "    set(subset.filter(lambda p: p.get(\"clientId\") not in misbehaving_clients).map(lambda p: p.get(\"clientId\")).collect())\n",
    "\n",
    "all_clients = misbehaving_clients + list(well_behaving_clients)"
   ]
  },
  {
   "cell_type": "code",
   "execution_count": null,
   "metadata": {
    "collapsed": false
   },
   "outputs": [],
   "source": [
    "main_deduped = dedupe(main_subset.filter(lambda p: p.get(\"clientId\") in all_clients), \"id\")\n",
    "main_deduped_count = main_deduped.count()"
   ]
  },
  {
   "cell_type": "markdown",
   "metadata": {},
   "source": [
    "Try to pair each `new-profile` ping with reason `shutdown` to the very first `main` ping with reason `shutdown` received from that client, to make sure that the former were sent at the right time."
   ]
  },
  {
   "cell_type": "code",
   "execution_count": null,
   "metadata": {
    "collapsed": false
   },
   "outputs": [],
   "source": [
    "first_main = main_deduped.filter(lambda p:\\\n",
    "                                    p.get(\"payload/info/previousSessionId\") == None and\\\n",
    "                                    p.get(\"payload/info/reason\") == \"shutdown\")"
   ]
  },
  {
   "cell_type": "code",
   "execution_count": null,
   "metadata": {
    "collapsed": false
   },
   "outputs": [],
   "source": [
    "newping_shutdown = deduped_docid.filter(lambda p: p.get(\"payload/reason\") == \"shutdown\")"
   ]
  },
  {
   "cell_type": "code",
   "execution_count": null,
   "metadata": {
    "collapsed": false
   },
   "outputs": [],
   "source": [
    "newprofile_plus_main = first_main.union(newping_shutdown)\n",
    "sorted_per_client = newprofile_plus_main.map(lambda p: (p[\"clientId\"], [(p, p[\"meta/creationTimestamp\"])]))\\\n",
    "                                        .reduceByKey(lambda a, b: sorted(a + b, key=lambda k: k[1]))\\\n",
    "                                        .filter(lambda p: len(p[1]) > 1)\\\n",
    "                                        .map(lambda p: (p[0], [r[0] for r in p[1]]))\n",
    "num_analysed_clients = sorted_per_client.count()"
   ]
  },
  {
   "cell_type": "code",
   "execution_count": null,
   "metadata": {
    "collapsed": false
   },
   "outputs": [],
   "source": [
    "HALF_HOUR_IN_S = 30 * 60\n",
    "\n",
    "def is_newprofile(p):\n",
    "    # The 'main' ping has the reason field in 'payload/info/reason'\n",
    "    return \"payload/reason\" in p and p.get(\"payload/reason\") in [\"startup\", \"shutdown\"]\n",
    "\n",
    "def validate_newprofile_shutdown(client_data):\n",
    "    ordered_pings = client_data[1]\n",
    "    \n",
    "    newprofile_mask = [is_newprofile(p) for p in ordered_pings]\n",
    "    \n",
    "    # Do we have at least a 'new-profile' ping?\n",
    "    num_newprofile_pings = sum(newprofile_mask)\n",
    "    if num_newprofile_pings < 1:\n",
    "        return (\"No shutdown 'new-profile' ping found\", 1)\n",
    "    \n",
    "    # Do we have multiple 'new-profile' pings?\n",
    "    if num_newprofile_pings > 1:\n",
    "        return (\"Duplicate 'new-profile' ping.\", 1)\n",
    "    \n",
    "    if not newprofile_mask[0]:\n",
    "        return (\"The 'new-profile' ping is not the first ping\", 1)\n",
    "        \n",
    "    # If there's a new-profile ping with reason 'shutdown', look for the closest next\n",
    "    # 'main' ping with reason shutdown.\n",
    "    for i, p in enumerate(ordered_pings):\n",
    "        # Skip until we find the 'new-profile' ping.\n",
    "        if not is_newprofile(p):\n",
    "            continue\n",
    "\n",
    "        # We found the 'new-profile' ping. Do we have any other ping\n",
    "        # after this?\n",
    "        next_index = i + 1\n",
    "        if next_index >= len(ordered_pings):\n",
    "            return (\"No more pings after the 'new-profile'\", 1)\n",
    "    \n",
    "        # Did we schedule the 'new-profile' ping at the right moment?\n",
    "        next_ping = ordered_pings[next_index]\n",
    "        if next_ping.get(\"payload/info/sessionLength\") <= HALF_HOUR_IN_S:\n",
    "            return (\"The 'new-profile' ping was correctly scheduled\", 1)\n",
    "\n",
    "        return (\"The 'new-profile' ping was scheduled at the wrong time\", 1)\n",
    "    \n",
    "    return (\"Unknown condition\", 1)\n",
    "\n",
    "scheduling_error_counts = sorted_per_client.map(validate_newprofile_shutdown).countByKey()"
   ]
  },
  {
   "cell_type": "code",
   "execution_count": null,
   "metadata": {
    "collapsed": false
   },
   "outputs": [],
   "source": [
    "for error, count in scheduling_error_counts.items():\n",
    "    print(\"{}:\\t{}\".format(error, pct(count, num_analysed_clients)))"
   ]
  },
  {
   "cell_type": "markdown",
   "metadata": {},
   "source": [
    "Most of the `new-profile` pings sent at `shutdown`, 98.61%, were correctly generated because the session lasted less than 30 minutes. Only 0.63% were scheduled at the wrong time. The rest of the clients either sent the `new-profile` at startup or we're still waiting for their `main` ping with reason `shutdown`.\n",
    "\n",
    "### Are we sending `new-profile`/`startup` pings only from sessions > 30 minutes?"
   ]
  },
  {
   "cell_type": "code",
   "execution_count": null,
   "metadata": {
    "collapsed": true
   },
   "outputs": [],
   "source": [
    "newping_startup = deduped_docid.filter(lambda p: p.get(\"payload/reason\") == \"startup\")\n",
    "newprofile_start_main = first_main.union(newping_startup)\n",
    "sorted_per_client = newprofile_start_main.map(lambda p: (p[\"clientId\"], [(p, p[\"meta/creationTimestamp\"])]))\\\n",
    "                                         .reduceByKey(lambda a, b: sorted(a + b, key=lambda k: k[1]))\\\n",
    "                                         .filter(lambda p: len(p[1]) > 1)\\\n",
    "                                         .map(lambda p: (p[0], [r[0] for r in p[1]]))\n",
    "num_analysed_clients = sorted_per_client.count()"
   ]
  },
  {
   "cell_type": "code",
   "execution_count": null,
   "metadata": {
    "collapsed": false
   },
   "outputs": [],
   "source": [
    "def validate_newprofile_startup(client_data):\n",
    "    ordered_pings = client_data[1]\n",
    "    \n",
    "    newprofile_mask = [is_newprofile(p) for p in ordered_pings]\n",
    "    \n",
    "    # Do we have at least a 'new-profile' ping?\n",
    "    num_newprofile_pings = sum(newprofile_mask)\n",
    "    if num_newprofile_pings < 1:\n",
    "        return (\"No startup 'new-profile' ping found\", 1)\n",
    "    \n",
    "    # Do we have multiple 'new-profile' pings?\n",
    "    if num_newprofile_pings > 1:\n",
    "        return (\"Duplicate 'new-profile' ping\", 1)\n",
    "    \n",
    "    if not newprofile_mask[0]:\n",
    "        return (\"The 'new-profile' ping it's not the first ping\", 1)\n",
    "        \n",
    "    # If there's a new-profile ping with reason 'startup', look for the closest next\n",
    "    # 'main' ping with reason shutdown.\n",
    "    for i, p in enumerate(ordered_pings):\n",
    "        # Skip until we find the 'new-profile' ping.\n",
    "        if not is_newprofile(p):\n",
    "            continue\n",
    "\n",
    "        # We found the 'new-profile' ping. Do we have any other ping\n",
    "        # after this?\n",
    "        next_index = i + 1\n",
    "        if next_index >= len(ordered_pings):\n",
    "            return (\"No more pings after the 'new-profile'\", 1)\n",
    "    \n",
    "        # Did we schedule the 'new-profile' ping at the right moment?\n",
    "        next_ping = ordered_pings[next_index]\n",
    "        if next_ping.get(\"payload/info/sessionLength\") > HALF_HOUR_IN_S:\n",
    "            return (\"The 'new-profile' ping was correctly scheduled\", 1)\n",
    "\n",
    "        return (\"The 'new-profile' ping was scheduled at the wrong time\", 1)\n",
    "    \n",
    "    return (\"Unknown condition\", 1)\n",
    "\n",
    "startup_newprofile_errors = sorted_per_client.map(validate_newprofile_startup).countByKey()\n",
    "for error, count in startup_newprofile_errors.items():\n",
    "    print(\"{}:\\t{}\".format(error, pct(count, num_analysed_clients)))"
   ]
  },
  {
   "cell_type": "markdown",
   "metadata": {},
   "source": [
    "The results look good and in line with the previous case of the `new-profile` ping being sent at `shutdown`. The number of times the `new-profile` ping isn't the first generated ping is slightly higher (0.06% vs 1.41%), but this can be explained by the fact that nothing prevents Firefox from sending new pings after Telemetry starts up (60s into the Firefox startup some addon is installed), while the `new-profile` ping is strictly scheduled 30 minutes after the startup.\n",
    "\n",
    "### Did we receive any `crash` ping from bad-behaved clients?\n",
    "If that happened close to when we generated a `new-profile` ping, it could hint at some correlation between crashes and the duplicates per client id."
   ]
  },
  {
   "cell_type": "code",
   "execution_count": null,
   "metadata": {
    "collapsed": false
   },
   "outputs": [],
   "source": [
    "crash_pings = Dataset.from_source(\"telemetry\") \\\n",
    "                     .where(docType='crash') \\\n",
    "                     .where(appUpdateChannel=\"beta\") \\\n",
    "                     .where(submissionDate=lambda x: \"20170614\" <= x < \"20170620\") \\\n",
    "                     .where(appBuildId=lambda x: \"20170612\" <= x < \"20170622\") \\\n",
    "                     .records(sc, sample=1.0)"
   ]
  },
  {
   "cell_type": "markdown",
   "metadata": {},
   "source": [
    "Restrict the crashes to a set of useful fields, just for the misbehaving clients, and dedupe them by document id."
   ]
  },
  {
   "cell_type": "code",
   "execution_count": null,
   "metadata": {
    "collapsed": false
   },
   "outputs": [],
   "source": [
    "crash_subset = get_pings_properties(crash_pings, [\"id\",\n",
    "                                                  \"meta/creationTimestamp\",\n",
    "                                                  \"meta/Date\",\n",
    "                                                  \"meta/Timestamp\",\n",
    "                                                  \"meta/X-PingSender-Version\",\n",
    "                                                  \"clientId\",\n",
    "                                                  \"environment/profile/creationDate\",\n",
    "                                                  \"payload/crashDate\",\n",
    "                                                  \"payload/crashTime\",\n",
    "                                                  \"payload/processType\",\n",
    "                                                  \"payload/sessionId\"])\n",
    "crashes_misbehaving_clients = dedupe(crash_subset.filter(lambda p:\\\n",
    "                                                             p.get(\"clientId\") in misbehaving_clients and\\\n",
    "                                                             p.get(\"payload/processType\") == 'main'), \"id\")\n",
    "newprofile_bad_clients = subset.filter(lambda p: p.get(\"clientId\") in misbehaving_clients)"
   ]
  },
  {
   "cell_type": "markdown",
   "metadata": {},
   "source": [
    "Let's also check how many clients are reporting crashes compared to the number of misbehaving ones."
   ]
  },
  {
   "cell_type": "code",
   "execution_count": null,
   "metadata": {
    "collapsed": false
   },
   "outputs": [],
   "source": [
    "from operator import add\n",
    "clients_with_crashes =\\\n",
    "    crashes_misbehaving_clients.map(lambda p: (p.get('clientId'), 1)).reduceByKey(add).map(lambda p: p[0]).collect()"
   ]
  },
  {
   "cell_type": "code",
   "execution_count": null,
   "metadata": {
    "collapsed": false
   },
   "outputs": [],
   "source": [
    "print(\"Percentages of bad clients with crash pings:\\t{}\".format(pct(len(clients_with_crashes), len(misbehaving_clients))))"
   ]
  },
  {
   "cell_type": "code",
   "execution_count": null,
   "metadata": {
    "collapsed": false
   },
   "outputs": [],
   "source": [
    "def get_ping_type(p):\n",
    "    return \"crash\" if \"payload/crashDate\" in p else \"new-profile\"\n",
    "\n",
    "newprofile_and_crashes = crashes_misbehaving_clients.union(newprofile_bad_clients)\n",
    "\n",
    "# Builds an RDD with (<client id>, [<ordered reason>, <ordered reason>, ...])\n",
    "joint_ordered_pings = newprofile_and_crashes\\\n",
    "                        .map(lambda p: (p[\"clientId\"], [(get_ping_type(p), p[\"meta/creationTimestamp\"])]))\\\n",
    "                        .reduceByKey(lambda a, b: sorted(a + b, key=lambda k: k[1]))\\\n",
    "                        .map(lambda p: (p[0], [r[0] for r in p[1]]))\n",
    "\n",
    "# Just show the pings, the most occurring first. Hide the counts.\n",
    "[k for k, v in\\\n",
    " sorted(joint_ordered_pings.map(lambda p: tuple(p[1])).countByValue().items(), key=lambda k: k[1], reverse=True)]"
   ]
  },
  {
   "cell_type": "markdown",
   "metadata": {},
   "source": [
    "The first groups of reported ping sequences, don't contain any `crash` ping and account for most of the `new-profile` duplicates pattern. The other sequences interleave `new-profile` and main process `crash` pings, suggesting that crashes might play a role in per-client duplicates. However, we only have crashes for 13% of the clients that do not behave correctly: this probably means that there is a weak correlation between crashes and getting multiple `new-profile` pings, but this is not the main problem. There's some potential bug lurking around in the client code."
   ]
  },
  {
   "cell_type": "code",
   "execution_count": null,
   "metadata": {
    "collapsed": true
   },
   "outputs": [],
   "source": []
  }
 ],
 "metadata": {
  "anaconda-cloud": {},
  "kernelspec": {
   "display_name": "Python [default]",
   "language": "python",
   "name": "python2"
  },
  "language_info": {
   "codemirror_mode": {
    "name": "ipython",
    "version": 2
   },
   "file_extension": ".py",
   "mimetype": "text/x-python",
   "name": "python",
   "nbconvert_exporter": "python",
   "pygments_lexer": "ipython2",
   "version": "2.7.12"
  }
 },
 "nbformat": 4,
 "nbformat_minor": 0
}