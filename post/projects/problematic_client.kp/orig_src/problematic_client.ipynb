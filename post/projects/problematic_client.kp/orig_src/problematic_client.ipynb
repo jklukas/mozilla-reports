{
 "cells": [
  {
   "cell_type": "raw",
   "metadata": {},
   "source": [
    "---\n",
    "title: One Problematic Aurora 51 Client\n",
    "authors:\n",
    "- chutten\n",
    "tags:\n",
    "- aurora\n",
    "- firefox\n",
    "created_at: 2017-02-22\n",
    "updated_at: 2017-02-22\n",
    "tldr: Taking a look at one problematic client on Aurora leads to a broad examination of the types of hosts that are sending us this data and some seriously-speculative conclusions.\n",
    "---"
   ]
  },
  {
   "cell_type": "markdown",
   "metadata": {},
   "source": [
    "## One Problematic Aurora 51 Client"
   ]
  },
  {
   "cell_type": "markdown",
   "metadata": {},
   "source": [
    "### Motivation"
   ]
  },
  {
   "cell_type": "markdown",
   "metadata": {},
   "source": [
    "There is one particular client, whose `client_id` I've obscured, that seems to be sending orders of magnitude more \"main\" pings per day than is expected, or even possible.\n",
    "\n",
    "I'm interested in figuring out what we can determine about this particular client to see if there are signifiers we can use to identify this anomalous use case. This identification would permit us to:\n",
    "* filter data from these clients out of derived datasets that aren't relevant\n",
    "* identify exceptional use-cases for Firefox we don't currently understand"
   ]
  },
  {
   "cell_type": "markdown",
   "metadata": {},
   "source": [
    "### How many pings are we talking, here?"
   ]
  },
  {
   "cell_type": "code",
   "execution_count": null,
   "metadata": {
    "collapsed": false
   },
   "outputs": [],
   "source": [
    "import pandas as pd\n",
    "import numpy as np\n",
    "import matplotlib\n",
    "\n",
    "from matplotlib import pyplot as plt\n",
    "from moztelemetry.dataset import Dataset\n",
    "from moztelemetry import get_pings_properties, get_one_ping_per_client"
   ]
  },
  {
   "cell_type": "code",
   "execution_count": null,
   "metadata": {
    "collapsed": false
   },
   "outputs": [],
   "source": [
    "all_pings = Dataset.from_source(\"telemetry\") \\\n",
    "    .where(docType='main') \\\n",
    "    .where(appBuildId=lambda x: x.startswith(\"20161014\")) \\\n",
    "    .where(appUpdateChannel=\"aurora\") \\\n",
    "    .records(sc, sample=1)"
   ]
  },
  {
   "cell_type": "code",
   "execution_count": null,
   "metadata": {
    "collapsed": false
   },
   "outputs": [],
   "source": [
    "pings = all_pings.filter(lambda p: p['clientId'] == '<omitted for privacy>')"
   ]
  },
  {
   "cell_type": "code",
   "execution_count": null,
   "metadata": {
    "collapsed": false
   },
   "outputs": [],
   "source": [
    "submission_dates = get_pings_properties(pings, [\"meta/submissionDate\"])"
   ]
  },
  {
   "cell_type": "code",
   "execution_count": null,
   "metadata": {
    "collapsed": false
   },
   "outputs": [],
   "source": [
    "from datetime import datetime\n",
    "ping_counts = submission_dates.map(lambda p: (datetime.strptime(p[\"meta/submissionDate\"], '%Y%m%d'), 1)).countByKey()"
   ]
  },
  {
   "cell_type": "code",
   "execution_count": null,
   "metadata": {
    "collapsed": true
   },
   "outputs": [],
   "source": [
    "from datetime import timedelta"
   ]
  },
  {
   "cell_type": "code",
   "execution_count": null,
   "metadata": {
    "collapsed": false,
    "scrolled": true
   },
   "outputs": [],
   "source": [
    "df = pd.DataFrame(ping_counts.items(), columns=[\"date\", \"count\"]).set_index([\"date\"])\n",
    "df.plot(figsize=(17, 7))\n",
    "plt.xticks(np.arange(min(df.index), max(df.index) + timedelta(3), 3, dtype=\"datetime64[D]\"))\n",
    "plt.ylabel(\"ping count\")\n",
    "plt.xlabel(\"date\")\n",
    "plt.grid(True)\n",
    "plt.show()"
   ]
  },
  {
   "cell_type": "markdown",
   "metadata": {},
   "source": [
    "Just about 100k main pings submitted by this client on a single day? (Feb 16)... that is one active client.\n",
    "\n",
    "Or _many_ active clients."
   ]
  },
  {
   "cell_type": "markdown",
   "metadata": {},
   "source": [
    "### What Can We Learn About These Pings?\n",
    "\n",
    "Well, since these pings all share the same clientId, they likely are sharing user profiles. This means things like profile `creationDate` and so forth won't change amongst them.\n",
    "\n",
    "However, here's a list of things that might change in interesting ways or otherwise shed some light on the purpose of these installs."
   ]
  },
  {
   "cell_type": "code",
   "execution_count": null,
   "metadata": {
    "collapsed": true
   },
   "outputs": [],
   "source": [
    "subset = get_pings_properties(pings, [\n",
    "        \"meta/geoCountry\",\n",
    "        \"meta/geoCity\",\n",
    "        \"environment/addons/activeAddons\",\n",
    "        \"environment/settings/isDefaultBrowser\",\n",
    "        \"environment/system/cpu/speedMHz\",\n",
    "        \"environment/system/os/name\",\n",
    "        \"environment/system/os/version\",\n",
    "        \"payload/info/sessionLength\",\n",
    "        \"payload/info/subsessionLength\",        \n",
    "    ])"
   ]
  },
  {
   "cell_type": "code",
   "execution_count": null,
   "metadata": {
    "collapsed": false
   },
   "outputs": [],
   "source": [
    "subset.count()"
   ]
  },
  {
   "cell_type": "markdown",
   "metadata": {},
   "source": [
    "#### Non-System Addons"
   ]
  },
  {
   "cell_type": "code",
   "execution_count": null,
   "metadata": {
    "collapsed": false
   },
   "outputs": [],
   "source": [
    "pings_with_addon = subset\\\n",
    "    .flatMap(lambda p: [(addon[\"name\"], 1) for addon in filter(lambda x: \"isSystem\" not in x or not x[\"isSystem\"], p[\"environment/addons/activeAddons\"].values())])\\\n",
    "    .countByKey()"
   ]
  },
  {
   "cell_type": "code",
   "execution_count": null,
   "metadata": {
    "collapsed": false
   },
   "outputs": [],
   "source": [
    "sorted(pings_with_addon.items(), key=lambda x: x[1], reverse=True)[:5]"
   ]
  },
  {
   "cell_type": "markdown",
   "metadata": {},
   "source": [
    "Nearly every single ping is reporting that it has an addon called 'Random Agent Spoofer'. Interesting."
   ]
  },
  {
   "cell_type": "markdown",
   "metadata": {},
   "source": [
    "#### Session Lengths"
   ]
  },
  {
   "cell_type": "code",
   "execution_count": null,
   "metadata": {
    "collapsed": true
   },
   "outputs": [],
   "source": [
    "SESSION_MAX = 400"
   ]
  },
  {
   "cell_type": "code",
   "execution_count": null,
   "metadata": {
    "collapsed": true
   },
   "outputs": [],
   "source": [
    "session_lengths = subset.map(lambda p: p[\"payload/info/sessionLength\"] if p[\"payload/info/sessionLength\"] < SESSION_MAX else SESSION_MAX).collect()"
   ]
  },
  {
   "cell_type": "code",
   "execution_count": null,
   "metadata": {
    "collapsed": false
   },
   "outputs": [],
   "source": [
    "pd.Series(session_lengths).hist(bins=250, figsize=(17, 7))\n",
    "plt.ylabel(\"ping count\")\n",
    "plt.xlabel(\"session length in seconds\")\n",
    "plt.show()"
   ]
  },
  {
   "cell_type": "code",
   "execution_count": null,
   "metadata": {
    "collapsed": false
   },
   "outputs": [],
   "source": [
    "pd.Series(session_lengths).value_counts()[:10]"
   ]
  },
  {
   "cell_type": "markdown",
   "metadata": {},
   "source": [
    "The session lengths for over half of all the reported pings are exactly 215 seconds long. Two minutes and 35 seconds."
   ]
  },
  {
   "cell_type": "markdown",
   "metadata": {},
   "source": [
    "#### Is this Firefox even the default browser?"
   ]
  },
  {
   "cell_type": "code",
   "execution_count": null,
   "metadata": {
    "collapsed": false
   },
   "outputs": [],
   "source": [
    "subset.map(lambda p: (p[\"environment/settings/isDefaultBrowser\"], 1)).countByKey()"
   ]
  },
  {
   "cell_type": "markdown",
   "metadata": {},
   "source": [
    "No."
   ]
  },
  {
   "cell_type": "markdown",
   "metadata": {},
   "source": [
    "#### CPU speed"
   ]
  },
  {
   "cell_type": "code",
   "execution_count": null,
   "metadata": {
    "collapsed": false
   },
   "outputs": [],
   "source": [
    "MHZ_MAX = 5000"
   ]
  },
  {
   "cell_type": "code",
   "execution_count": null,
   "metadata": {
    "collapsed": true
   },
   "outputs": [],
   "source": [
    "mhzes = subset.map(lambda p: p[\"environment/system/cpu/speedMHz\"] if p[\"environment/system/cpu/speedMHz\"] < MHZ_MAX else MHZ_MAX).collect()"
   ]
  },
  {
   "cell_type": "code",
   "execution_count": null,
   "metadata": {
    "collapsed": false
   },
   "outputs": [],
   "source": [
    "ds = pd.Series(mhzes)\n",
    "ds.hist(bins=250, figsize=(17, 7))\n",
    "plt.ylabel(\"ping count (log)\")\n",
    "plt.xlabel(\"speed in MHz\")\n",
    "plt.yscale(\"log\")\n",
    "plt.show()"
   ]
  },
  {
   "cell_type": "code",
   "execution_count": null,
   "metadata": {
    "collapsed": false
   },
   "outputs": [],
   "source": [
    "pd.Series(mhzes).value_counts()[:10]"
   ]
  },
  {
   "cell_type": "markdown",
   "metadata": {},
   "source": [
    "There seems to be a family gathering of different hardware configurations this client is running on, most on a particular approximately-3.5GHz machine"
   ]
  },
  {
   "cell_type": "markdown",
   "metadata": {},
   "source": [
    "#### Operating System"
   ]
  },
  {
   "cell_type": "code",
   "execution_count": null,
   "metadata": {
    "collapsed": true
   },
   "outputs": [],
   "source": [
    "def major_minor(version_string):\n",
    "    return version_string.split('.')[0] + '.' + version_string.split('.')[1]"
   ]
  },
  {
   "cell_type": "code",
   "execution_count": null,
   "metadata": {
    "collapsed": false
   },
   "outputs": [],
   "source": [
    "pings_per_os = subset\\\n",
    "    .map(lambda p: (p[\"environment/system/os/name\"] + \" \" + major_minor(p[\"environment/system/os/version\"]), 1))\\\n",
    "    .countByKey()"
   ]
  },
  {
   "cell_type": "code",
   "execution_count": null,
   "metadata": {
    "collapsed": false
   },
   "outputs": [],
   "source": [
    "print len(pings_per_os)\n",
    "sorted(pings_per_os.items(), key=lambda x: x[1], reverse=True)[:10]"
   ]
  },
  {
   "cell_type": "markdown",
   "metadata": {},
   "source": [
    "All of the pings come from Windows XP."
   ]
  },
  {
   "cell_type": "markdown",
   "metadata": {},
   "source": [
    "#### Physical Location (geo-ip of submitting host)"
   ]
  },
  {
   "cell_type": "code",
   "execution_count": null,
   "metadata": {
    "collapsed": true
   },
   "outputs": [],
   "source": [
    "pings_per_city = subset\\\n",
    "    .map(lambda p: (p[\"meta/geoCountry\"] + \" \" + p[\"meta/geoCity\"], 1))\\\n",
    "    .countByKey()"
   ]
  },
  {
   "cell_type": "code",
   "execution_count": null,
   "metadata": {
    "collapsed": false
   },
   "outputs": [],
   "source": [
    "print len(pings_per_city)\n",
    "sorted(pings_per_city.items(), key=lambda x: x[1], reverse=True)[:10]"
   ]
  },
  {
   "cell_type": "markdown",
   "metadata": {},
   "source": [
    "These pings are coming from all over the world, mostly from countries where Firefox user share is already decent. This may just be a map of Browser use across the world's population, which would be consistent with a profile that is inhabiting a set %ge of the browser-using population's computers."
   ]
  },
  {
   "cell_type": "markdown",
   "metadata": {},
   "source": [
    "### Conclusion\n",
    "\n",
    "None of this is concrete, but if I were invited to speculate, I'd think there's some non-Mozilla code someplace that has embedded a particular (out-of-date) version of Firefox Developer Edition into themselves, automating it to perform a 2-minute-and-35-second task on Windows XP machines, possibly while masquerading as something completely different (using the addon).\n",
    "\n",
    "This could be legitimate. Firefox contains a robust networking and rendering stack so it might be desireable to embed it within, say, a video game as a fully-featured embedded browser. The user-agent-spoofing addon could very well be used to set a custom user agent to identify the video game's browser, and of course it wouldn't be the user's default browser.\n",
    "\n",
    "However, I can't so easily explain this client's broad geographical presence and Windows XP focus."
   ]
  }
 ],
 "metadata": {
  "anaconda-cloud": {},
  "hide_input": false,
  "kernelspec": {
   "display_name": "Python [default]",
   "language": "python",
   "name": "python2"
  },
  "language_info": {
   "codemirror_mode": {
    "name": "ipython",
    "version": 2
   },
   "file_extension": ".py",
   "mimetype": "text/x-python",
   "name": "python",
   "nbconvert_exporter": "python",
   "pygments_lexer": "ipython2",
   "version": "2.7.12"
  }
 },
 "nbformat": 4,
 "nbformat_minor": 0
}